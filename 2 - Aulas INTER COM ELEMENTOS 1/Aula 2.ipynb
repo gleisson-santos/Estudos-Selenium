{
 "cells": [
  {
   "cell_type": "code",
   "execution_count": 2,
   "id": "46257948",
   "metadata": {},
   "outputs": [],
   "source": [
    "from selenium.webdriver import Firefox\n",
    "from selenium.webdriver.common.by import By\n",
    "from time import sleep\n",
    "from pprint import pprint\n",
    "\n",
    "url = 'https://selenium.dunossauro.live/aula_05_b.html'\n",
    "driver = Firefox()\n",
    "driver.get(url)"
   ]
  },
  {
   "cell_type": "code",
   "execution_count": 4,
   "id": "ac0bf9a8",
   "metadata": {},
   "outputs": [
    {
     "data": {
      "text/plain": [
       "'Minhas linguagens preferidas'"
      ]
     },
     "execution_count": 4,
     "metadata": {},
     "output_type": "execute_result"
    }
   ],
   "source": [
    "topico = driver.find_element(By.CLASS_NAME, 'topico')\n",
    "topico.text"
   ]
  },
  {
   "cell_type": "code",
   "execution_count": 15,
   "id": "51b8985b",
   "metadata": {},
   "outputs": [
    {
     "name": "stdout",
     "output_type": "stream",
     "text": [
      "('Python', 'Criada em 1991')\n",
      "('Haskell', 'Criada em 1990')\n",
      "('Lisp', 'Criada em 1958')\n",
      "('Prolog', 'Criada em 1972')\n"
     ]
    }
   ],
   "source": [
    "linguagens = driver.find_elements(By.CLASS_NAME, 'linguagens')\n",
    "for linguagem in linguagens:\n",
    "    print((linguagem.find_element(By.TAG_NAME, 'h2').text,\n",
    "          linguagem.find_element(By.TAG_NAME, 'p').text\n",
    "          )         \n",
    "         )"
   ]
  }
 ],
 "metadata": {
  "kernelspec": {
   "display_name": "Python 3 (ipykernel)",
   "language": "python",
   "name": "python3"
  },
  "language_info": {
   "codemirror_mode": {
    "name": "ipython",
    "version": 3
   },
   "file_extension": ".py",
   "mimetype": "text/x-python",
   "name": "python",
   "nbconvert_exporter": "python",
   "pygments_lexer": "ipython3",
   "version": "3.9.12"
  }
 },
 "nbformat": 4,
 "nbformat_minor": 5
}
