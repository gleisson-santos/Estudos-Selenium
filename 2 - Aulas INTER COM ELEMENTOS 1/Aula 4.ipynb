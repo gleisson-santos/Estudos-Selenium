{
 "cells": [
  {
   "cell_type": "code",
   "execution_count": 1,
   "id": "4bfc7d0c",
   "metadata": {},
   "outputs": [],
   "source": [
    "from selenium.webdriver import Firefox\n",
    "from selenium.webdriver.common.by import By\n",
    "from time import sleep\n",
    "from pprint import pprint\n",
    "\n",
    "url = 'https://selenium.dunossauro.live/aula_05.html'\n",
    "driver = Firefox()\n",
    "driver.get(url)"
   ]
  },
  {
   "cell_type": "code",
   "execution_count": null,
   "id": "df9baf3c",
   "metadata": {},
   "outputs": [],
   "source": [
    "#nome, email, senha, telefone, btn"
   ]
  },
  {
   "cell_type": "code",
   "execution_count": 8,
   "id": "7a111ad0",
   "metadata": {},
   "outputs": [],
   "source": [
    "def prencher_forme(driver, nome, email, senha, telefone):\n",
    "    driver.find_element(By.NAME, 'nome').send_keys(nome)\n",
    "    driver.find_element(By.NAME, 'email').send_keys(email)\n",
    "    driver.find_element(By.NAME, 'senha').send_keys(senha)\n",
    "    driver.find_element(By.NAME, 'telefone').send_keys(telefone)\n",
    "    driver.find_element(By.NAME, 'btn').click()\n",
    "    "
   ]
  },
  {
   "cell_type": "code",
   "execution_count": 9,
   "id": "87914c70",
   "metadata": {},
   "outputs": [],
   "source": [
    "prencher_forme(driver,\n",
    "              'Gleisson',\n",
    "              'glfx20@gmai.com',\n",
    "              '123456',\n",
    "               '71991501133'\n",
    "              )"
   ]
  }
 ],
 "metadata": {
  "kernelspec": {
   "display_name": "Python 3 (ipykernel)",
   "language": "python",
   "name": "python3"
  },
  "language_info": {
   "codemirror_mode": {
    "name": "ipython",
    "version": 3
   },
   "file_extension": ".py",
   "mimetype": "text/x-python",
   "name": "python",
   "nbconvert_exporter": "python",
   "pygments_lexer": "ipython3",
   "version": "3.9.12"
  }
 },
 "nbformat": 4,
 "nbformat_minor": 5
}
