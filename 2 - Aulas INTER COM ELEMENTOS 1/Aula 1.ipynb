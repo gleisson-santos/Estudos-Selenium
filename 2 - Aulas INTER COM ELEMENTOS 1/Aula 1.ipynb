{
 "cells": [
  {
   "cell_type": "code",
   "execution_count": 2,
   "id": "df7c7573",
   "metadata": {},
   "outputs": [],
   "source": [
    "from selenium.webdriver import Firefox\n",
    "from selenium.webdriver.common.by import By\n",
    "from time import sleep\n",
    "from pprint import pprint\n",
    "\n",
    "url = 'https://selenium.dunossauro.live/aula_05_a.html'\n",
    "driver = Firefox()\n",
    "driver.get(url)\n"
   ]
  },
  {
   "cell_type": "code",
   "execution_count": 7,
   "id": "84f5586b",
   "metadata": {},
   "outputs": [
    {
     "data": {
      "text/plain": [
       "'Python\\nCriada em 1991'"
      ]
     },
     "execution_count": 7,
     "metadata": {},
     "output_type": "execute_result"
    }
   ],
   "source": [
    "div_1 = driver.find_element(By.TAG_NAME, \"div\")\n",
    "div_1.text"
   ]
  },
  {
   "cell_type": "code",
   "execution_count": 18,
   "id": "800da8e2",
   "metadata": {},
   "outputs": [
    {
     "name": "stdout",
     "output_type": "stream",
     "text": [
      "Haskell\n",
      "Criada em 1990\n"
     ]
    }
   ],
   "source": [
    "div_2 = driver.find_element(By.ID, \"haskell\")\n",
    "print(div_2.text)"
   ]
  },
  {
   "cell_type": "code",
   "execution_count": 13,
   "id": "d65f2da6",
   "metadata": {},
   "outputs": [
    {
     "data": {
      "text/plain": [
       "'Criada em 1958'"
      ]
     },
     "execution_count": 13,
     "metadata": {},
     "output_type": "execute_result"
    }
   ],
   "source": [
    "div_2.find_element(By.TAG_NAME, \"p\").text"
   ]
  }
 ],
 "metadata": {
  "kernelspec": {
   "display_name": "Python 3 (ipykernel)",
   "language": "python",
   "name": "python3"
  },
  "language_info": {
   "codemirror_mode": {
    "name": "ipython",
    "version": 3
   },
   "file_extension": ".py",
   "mimetype": "text/x-python",
   "name": "python",
   "nbconvert_exporter": "python",
   "pygments_lexer": "ipython3",
   "version": "3.9.12"
  }
 },
 "nbformat": 4,
 "nbformat_minor": 5
}
