{
 "cells": [
  {
   "cell_type": "code",
   "execution_count": 2,
   "id": "aded1d12",
   "metadata": {},
   "outputs": [],
   "source": [
    "from selenium.webdriver import Firefox\n",
    "from selenium.webdriver.common.by import By\n",
    "from time import sleep\n",
    "from pprint import pprint\n",
    "\n",
    "url = 'https://selenium.dunossauro.live/aula_05_c.html'\n",
    "driver = Firefox()\n",
    "driver.get(url)"
   ]
  },
  {
   "cell_type": "code",
   "execution_count": 6,
   "id": "5689222c",
   "metadata": {},
   "outputs": [],
   "source": [
    "driver.find_element(By.NAME, \"filme\").send_keys('Ação 007')\n",
    "driver.find_element(By.NAME, \"email\").send_keys('glfx@gmail.com')\n",
    "driver.find_element(By.NAME, \"telefone\").send_keys('(071)991501133')\n"
   ]
  },
  {
   "cell_type": "code",
   "execution_count": 7,
   "id": "a7ad58bd",
   "metadata": {},
   "outputs": [],
   "source": [
    "def melhor_filme(driver, filme, email, tel):\n",
    "    driver.find_element(By.NAME, \"filme\").send_keys(filme)\n",
    "    driver.find_element(By.NAME, 'email').send_keys(email)\n",
    "    driver.find_element(By.NAME, 'telefone').send_keys(tel)\n",
    "    driver.find_element(By.NAME, 'enviar').click()    \n",
    "    "
   ]
  },
  {
   "cell_type": "code",
   "execution_count": 9,
   "id": "45cda583",
   "metadata": {},
   "outputs": [],
   "source": [
    "melhor_filme(driver, \"007\", \"glfx20@gmail.com\",' (071)991501133')"
   ]
  }
 ],
 "metadata": {
  "kernelspec": {
   "display_name": "Python 3 (ipykernel)",
   "language": "python",
   "name": "python3"
  },
  "language_info": {
   "codemirror_mode": {
    "name": "ipython",
    "version": 3
   },
   "file_extension": ".py",
   "mimetype": "text/x-python",
   "name": "python",
   "nbconvert_exporter": "python",
   "pygments_lexer": "ipython3",
   "version": "3.9.12"
  }
 },
 "nbformat": 4,
 "nbformat_minor": 5
}
