{
 "cells": [
  {
   "cell_type": "code",
   "execution_count": 3,
   "id": "e8f5a8a0",
   "metadata": {},
   "outputs": [],
   "source": [
    "from selenium.webdriver import Firefox\n",
    "from selenium.webdriver.common.by import By\n",
    "from time import sleep\n",
    "\n",
    "url = 'https://selenium.dunossauro.live/keyboard'\n",
    "driver = Firefox()\n",
    "driver.get(url)"
   ]
  },
  {
   "cell_type": "code",
   "execution_count": 10,
   "id": "58de0222",
   "metadata": {},
   "outputs": [],
   "source": [
    "html = driver.find_element(By.TAG_NAME, 'html')\n",
    "html.send_keys('selenium')"
   ]
  },
  {
   "cell_type": "code",
   "execution_count": null,
   "id": "db72a22d",
   "metadata": {},
   "outputs": [],
   "source": [
    "##################################################################"
   ]
  },
  {
   "cell_type": "code",
   "execution_count": 62,
   "id": "0241bb7c",
   "metadata": {},
   "outputs": [],
   "source": [
    "from selenium.webdriver import Firefox\n",
    "from selenium.webdriver.common.by import By\n",
    "from selenium.webdriver.common.action_chains import ActionChains\n",
    "from selenium.webdriver.common.keys import Keys\n",
    "from time import sleep\n",
    "\n",
    "url = 'https://selenium.dunossauro.live/aula_08_a'\n",
    "driver = Firefox()\n",
    "driver.get(url)\n"
   ]
  },
  {
   "cell_type": "code",
   "execution_count": 61,
   "id": "3e06a318",
   "metadata": {},
   "outputs": [],
   "source": [
    "texto = 'Selenium'\n",
    "\n",
    "#hi-level\n",
    "elemento = driver.find_element(By.NAME, 'texto')\n",
    "\n",
    "#low-level\n",
    "ac = ActionChains(driver)\n",
    "ac.move_to_element(elemento)\n",
    "ac.click(elemento)\n",
    "\n",
    "def digita_campo(Key):\n",
    "    ac.key_down(Key)\n",
    "    for letra in texto:    \n",
    "        ac.key_down(letra)\n",
    "        ac.key_up(letra)\n",
    "    ac.key_up(Key)\n",
    "    \n",
    "digita_campo(Keys.SHIFT)\n",
    "digita_campo(u'\\ue21EA)\n",
    "\n",
    "ac.perform()"
   ]
  },
  {
   "cell_type": "code",
   "execution_count": 37,
   "id": "ca15ccd8",
   "metadata": {},
   "outputs": [],
   "source": [
    "#hi-level\n",
    "elemento = driver.find_element(By.NAME, 'texto')\n",
    "elemento.send_keys('selenium')"
   ]
  },
  {
   "cell_type": "code",
   "execution_count": 41,
   "id": "475b537b",
   "metadata": {
    "collapsed": true
   },
   "outputs": [
    {
     "data": {
      "text/plain": [
       "<selenium.webdriver.common.action_chains.ActionChains at 0x286b4c23910>"
      ]
     },
     "execution_count": 41,
     "metadata": {},
     "output_type": "execute_result"
    }
   ],
   "source": [
    "#low-level\n",
    "texto = 'selenium'\n",
    "ac = ActionChains(driver)\n",
    "ac.key_down('Shift')\n",
    "ac.key_down(texto[0])\n",
    "ac.key_up(texto[0])\n",
    "ac.key_up('Shift')"
   ]
  },
  {
   "cell_type": "code",
   "execution_count": 17,
   "id": "f89d41f0",
   "metadata": {},
   "outputs": [],
   "source": []
  }
 ],
 "metadata": {
  "kernelspec": {
   "display_name": "Python 3 (ipykernel)",
   "language": "python",
   "name": "python3"
  },
  "language_info": {
   "codemirror_mode": {
    "name": "ipython",
    "version": 3
   },
   "file_extension": ".py",
   "mimetype": "text/x-python",
   "name": "python",
   "nbconvert_exporter": "python",
   "pygments_lexer": "ipython3",
   "version": "3.9.7"
  }
 },
 "nbformat": 4,
 "nbformat_minor": 5
}
