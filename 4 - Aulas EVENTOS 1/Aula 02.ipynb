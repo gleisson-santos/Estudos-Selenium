{
 "cells": [
  {
   "cell_type": "code",
   "execution_count": 19,
   "id": "54c6e8ed",
   "metadata": {},
   "outputs": [
    {
     "name": "stdout",
     "output_type": "stream",
     "text": [
      "Indo para https://selenium.dunossauro.live/aula_07_d.html\n",
      "\n",
      "antes do click no input\n",
      "está com foco\n",
      "depois do click no input\n",
      "Estou clicando\n",
      "antes do click no span\n",
      "depois do click no span\n",
      "Indo para https://selenium.dunossauro.live/aula_07_c.html\n",
      "Voltando para a pagina anterior\n"
     ]
    }
   ],
   "source": [
    "from selenium.webdriver import Firefox\n",
    "from selenium.webdriver.common.by import By\n",
    "from selenium.webdriver.support.events import (\n",
    "    AbstractEventListener,\n",
    "    EventFiringWebDriver\n",
    "    )\n",
    "\n",
    "\n",
    "class Escuta(AbstractEventListener):\n",
    "    def after_navigate_to(self, url, webdriver):\n",
    "        print(f'Indo para {url}')\n",
    "    \n",
    "    def after_navigate_back(self, webdriver):\n",
    "        print('Voltando para a pagina anterior')    \n",
    "    \n",
    "    def before_click(self, elemento, webdriver):\n",
    "        if elemento.tag_name == 'input':\n",
    "            print(webdriver.find_element(By.TAG_NAME, 'span').text)\n",
    "        print(f'antes do click no {elemento.tag_name}')\n",
    "        \n",
    "    def after_click(self, elemento, webdriver):\n",
    "        if elemento.tag_name == 'input':\n",
    "            print(webdriver.find_element(By.TAG_NAME, 'span').text)\n",
    "        print(f'depois do click no {elemento.tag_name}')\n",
    "\n",
    "driver = Firefox()  \n",
    "\n",
    "rapi = EventFiringWebDriver(driver, Escuta())\n",
    "url = 'https://selenium.dunossauro.live/aula_07_d.html'\n",
    "rapi.get(url)\n",
    "\n",
    "input_texto = rapi.find_element(By.TAG_NAME, 'input')\n",
    "span = rapi.find_element(By.TAG_NAME, 'span')\n",
    "p = rapi.find_element(By.TAG_NAME, 'p')\n",
    "\n",
    "\n",
    "input_texto.click()\n",
    "print('Estou clicando')\n",
    "\n",
    "span.click()\n",
    "\n",
    "\n",
    "url = 'https://selenium.dunossauro.live/aula_07_c.html'\n",
    "rapi.get(url)\n",
    "\n",
    "rapi.back()\n",
    "\n"
   ]
  },
  {
   "cell_type": "code",
   "execution_count": null,
   "id": "e52a1af5",
   "metadata": {},
   "outputs": [],
   "source": [
    "url = 'https://selenium.dunossauro.live/aula_07_d.html'\n",
    "driver = Firefox()\n",
    "driver.get(url)"
   ]
  },
  {
   "cell_type": "code",
   "execution_count": null,
   "id": "a962b5df",
   "metadata": {},
   "outputs": [],
   "source": [
    "input_texto = driver.find_element(By.TAG_NAME, 'input')\n",
    "span = driver.find_element(By.TAG_NAME, 'span')\n",
    "p = driver.find_element(By.TAG_NAME, 'p')"
   ]
  },
  {
   "cell_type": "code",
   "execution_count": null,
   "id": "7a526974",
   "metadata": {},
   "outputs": [],
   "source": [
    "input_texto.click()\n",
    "print('Estou clicando')"
   ]
  }
 ],
 "metadata": {
  "kernelspec": {
   "display_name": "Python 3 (ipykernel)",
   "language": "python",
   "name": "python3"
  },
  "language_info": {
   "codemirror_mode": {
    "name": "ipython",
    "version": 3
   },
   "file_extension": ".py",
   "mimetype": "text/x-python",
   "name": "python",
   "nbconvert_exporter": "python",
   "pygments_lexer": "ipython3",
   "version": "3.9.12"
  }
 },
 "nbformat": 4,
 "nbformat_minor": 5
}
