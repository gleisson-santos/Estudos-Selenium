{
 "cells": [
  {
   "cell_type": "code",
   "execution_count": 23,
   "id": "481cf12b",
   "metadata": {},
   "outputs": [],
   "source": [
    "from selenium.webdriver import Firefox\n",
    "from selenium.webdriver.common.by import By\n",
    "from time import sleep\n",
    "\n",
    "url = 'https://selenium.dunossauro.live/aula_07_d.html'\n",
    "driver = Firefox()\n",
    "driver.get(url)"
   ]
  },
  {
   "cell_type": "code",
   "execution_count": null,
   "id": "89b5deb6",
   "metadata": {},
   "outputs": [],
   "source": [
    "#Chegar se a mudança ocorre no span (focus, blur)\n",
    "#Chegar se a mudanã ocorre no p (change)"
   ]
  },
  {
   "cell_type": "code",
   "execution_count": 35,
   "id": "7058a5ba",
   "metadata": {},
   "outputs": [],
   "source": [
    "input_texto = driver.find_element(By.TAG_NAME, 'input')\n",
    "span = driver.find_element(By.TAG_NAME, 'span')\n",
    "p = driver.find_element(By.TAG_NAME, 'p')"
   ]
  },
  {
   "cell_type": "code",
   "execution_count": 33,
   "id": "565536c7",
   "metadata": {
    "collapsed": true
   },
   "outputs": [
    {
     "ename": "AssertionError",
     "evalue": "está sem foco não esta em span",
     "output_type": "error",
     "traceback": [
      "\u001b[1;31m---------------------------------------------------------------------------\u001b[0m",
      "\u001b[1;31mAssertionError\u001b[0m                            Traceback (most recent call last)",
      "Input \u001b[1;32mIn [33]\u001b[0m, in \u001b[0;36m<cell line: 11>\u001b[1;34m()\u001b[0m\n\u001b[0;32m      9\u001b[0m \u001b[38;5;28;01massert\u001b[39;00m \u001b[38;5;124m'\u001b[39m\u001b[38;5;124mestá com foco\u001b[39m\u001b[38;5;124m'\u001b[39m \u001b[38;5;241m==\u001b[39m span\u001b[38;5;241m.\u001b[39mtext, \u001b[38;5;124m'\u001b[39m\u001b[38;5;124mestá com foco não esta em span\u001b[39m\u001b[38;5;124m'\u001b[39m\n\u001b[0;32m     10\u001b[0m span\u001b[38;5;241m.\u001b[39mclick()\n\u001b[1;32m---> 11\u001b[0m \u001b[38;5;28;01massert\u001b[39;00m \u001b[38;5;124m'\u001b[39m\u001b[38;5;124mestá sem foco1\u001b[39m\u001b[38;5;124m'\u001b[39m \u001b[38;5;241m==\u001b[39m span\u001b[38;5;241m.\u001b[39mtext, \u001b[38;5;124m'\u001b[39m\u001b[38;5;124mestá sem foco não esta em span\u001b[39m\u001b[38;5;124m'\u001b[39m\n",
      "\u001b[1;31mAssertionError\u001b[0m: está sem foco não esta em span"
     ]
    }
   ],
   "source": [
    "'''\n",
    "Quando clicar no elemento'input' \n",
    "então o texto 'está com foco' deve ser o content de ' span'\n",
    "\n",
    "Quando clicar no elemento 'span' \n",
    "então o texto'está com foco' deve ser o content de ' span'\n",
    "'''\n",
    "input_texto.click()\n",
    "assert 'está com foco' == span.text, 'está com foco não esta em span'\n",
    "span.click()\n",
    "assert 'está sem foco' == span.text, 'está sem foco não esta em span'\n",
    "\n"
   ]
  },
  {
   "cell_type": "code",
   "execution_count": 36,
   "id": "9c85c702",
   "metadata": {},
   "outputs": [],
   "source": [
    "'''\n",
    "Dado que o texto em 'p' se ja 0\n",
    "\n",
    "Quando enviar \"bataat\" no elemento 'input'\n",
    "Então o texto 'esta com foto' deve ser o contet de 'span'\n",
    "\n",
    "Quando clicar no elemento 'span\n",
    "Então o texto '1' deve ser o cont de 'p'\n",
    "\n",
    "'''\n",
    "\n",
    "assert p.text == '0', 'p não é zero'\n",
    "input_texto.send_keys('batata')\n",
    "assert 'está com foco' == span.text, 'está com foco não esta em span'\n",
    "span.click()\n",
    "assert 'está sem foco' == span.text, 'está sem foco não esta em span'\n",
    "assert p.text == '1', 'p não é um'\n"
   ]
  }
 ],
 "metadata": {
  "kernelspec": {
   "display_name": "Python 3 (ipykernel)",
   "language": "python",
   "name": "python3"
  },
  "language_info": {
   "codemirror_mode": {
    "name": "ipython",
    "version": 3
   },
   "file_extension": ".py",
   "mimetype": "text/x-python",
   "name": "python",
   "nbconvert_exporter": "python",
   "pygments_lexer": "ipython3",
   "version": "3.9.12"
  }
 },
 "nbformat": 4,
 "nbformat_minor": 5
}
