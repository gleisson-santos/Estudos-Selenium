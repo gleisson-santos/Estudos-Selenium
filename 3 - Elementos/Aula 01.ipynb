{
 "cells": [
  {
   "cell_type": "code",
   "execution_count": 37,
   "id": "7538ba38",
   "metadata": {},
   "outputs": [],
   "source": [
    "from selenium.webdriver import Firefox\n",
    "from selenium.webdriver.common.by import By\n",
    "from time import sleep\n",
    "\n",
    "url = 'https://selenium.dunossauro.live/aula_06_a.html'\n",
    "driver = Firefox()\n",
    "driver.get(url)"
   ]
  },
  {
   "cell_type": "code",
   "execution_count": 48,
   "id": "feaaae33",
   "metadata": {},
   "outputs": [],
   "source": [
    "#usando atributo type  = valor [attr=valor]\n",
    "driver.find_element(By.CSS_SELECTOR, '[type=\"text\"]').send_keys('007')\n",
    "driver.find_element(By.CSS_SELECTOR, '[type=\"password\"]').send_keys('12345')\n",
    "driver.find_element(By.CSS_SELECTOR, '[type=\"submit\"]').click()"
   ]
  },
  {
   "cell_type": "code",
   "execution_count": 50,
   "id": "edd21560",
   "metadata": {},
   "outputs": [],
   "source": [
    "#usando atributo nome  = valor [attr=valor]\n",
    "driver.find_element(By.CSS_SELECTOR, '[name=\"nome\"]').send_keys('007')\n",
    "driver.find_element(By.CSS_SELECTOR, '[name=\"senha\"]').send_keys('12345')\n",
    "driver.find_element(By.CSS_SELECTOR, '[name=\"l0c0\"]').click()"
   ]
  },
  {
   "cell_type": "code",
   "execution_count": 53,
   "id": "8b20f5a0",
   "metadata": {},
   "outputs": [],
   "source": [
    "#usando atributo nome que tenha   [attr=*valor]\n",
    "driver.find_element(By.CSS_SELECTOR, '[name*=\"ome\"]').send_keys('007')\n",
    "driver.find_element(By.CSS_SELECTOR, '[name*=\"nha\"]').send_keys('12345')\n",
    "driver.find_element(By.CSS_SELECTOR, '[name*=\"l0c\"]').click()"
   ]
  }
 ],
 "metadata": {
  "kernelspec": {
   "display_name": "Python 3 (ipykernel)",
   "language": "python",
   "name": "python3"
  },
  "language_info": {
   "codemirror_mode": {
    "name": "ipython",
    "version": 3
   },
   "file_extension": ".py",
   "mimetype": "text/x-python",
   "name": "python",
   "nbconvert_exporter": "python",
   "pygments_lexer": "ipython3",
   "version": "3.9.12"
  }
 },
 "nbformat": 4,
 "nbformat_minor": 5
}
