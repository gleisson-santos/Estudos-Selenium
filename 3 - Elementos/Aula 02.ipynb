{
 "cells": [
  {
   "cell_type": "code",
   "execution_count": 2,
   "id": "18844c3c",
   "metadata": {},
   "outputs": [],
   "source": [
    "from selenium.webdriver import Firefox\n",
    "from selenium.webdriver.common.by import By\n",
    "from time import sleep\n",
    "\n",
    "url = 'https://selenium.dunossauro.live/aula_06_a.html'\n",
    "driver = Firefox()\n",
    "driver.get(url)"
   ]
  },
  {
   "cell_type": "code",
   "execution_count": 43,
   "id": "37d4ffd8",
   "metadata": {
    "collapsed": true
   },
   "outputs": [
    {
     "data": {
      "text/plain": [
       "[<selenium.webdriver.remote.webelement.WebElement (session=\"a8b17b82-6f41-4b54-b644-a0d97cc02258\", element=\"511689fb-4813-42a7-8f5e-cce61fc02fdd\")>,\n",
       " <selenium.webdriver.remote.webelement.WebElement (session=\"a8b17b82-6f41-4b54-b644-a0d97cc02258\", element=\"f8099877-f4fa-4f44-a458-478215079c26\")>]"
      ]
     },
     "execution_count": 43,
     "metadata": {},
     "output_type": "execute_result"
    }
   ],
   "source": [
    "# sinal de + pegas tags adjacentes do atributo css\n",
    "driver.find_elements(By.CSS_SELECTOR, 'div.form-group')\n",
    "\n",
    "driver.find_elements(By.CSS_SELECTOR, 'div.form-group + br')"
   ]
  },
  {
   "cell_type": "code",
   "execution_count": 50,
   "id": "ac0b4a57",
   "metadata": {},
   "outputs": [
    {
     "data": {
      "text/plain": [
       "'dentro-nome'"
      ]
     },
     "execution_count": 50,
     "metadata": {},
     "output_type": "execute_result"
    }
   ],
   "source": [
    "#pegar o tem dentro da div que possua um form-group pela la dentro o valor de BR\n",
    "driver.find_element(By.CSS_SELECTOR, 'div.form-group > br').get_attribute('id')"
   ]
  },
  {
   "cell_type": "code",
   "execution_count": 47,
   "id": "517f9a3e",
   "metadata": {},
   "outputs": [
    {
     "data": {
      "text/plain": [
       "'batatinha'"
      ]
     },
     "execution_count": 47,
     "metadata": {},
     "output_type": "execute_result"
    }
   ],
   "source": [
    "#BR irmão de div class que tem form-group / onde os BR possuem valor\n",
    "driver.find_element(By.CSS_SELECTOR, 'div.form-group + br').get_attribute('id')"
   ]
  },
  {
   "cell_type": "code",
   "execution_count": 56,
   "id": "0a8f51b3",
   "metadata": {},
   "outputs": [
    {
     "data": {
      "text/plain": [
       "[<selenium.webdriver.remote.webelement.WebElement (session=\"a8b17b82-6f41-4b54-b644-a0d97cc02258\", element=\"4775bdfc-d35e-4a40-b0f2-b267f565de99\")>,\n",
       " <selenium.webdriver.remote.webelement.WebElement (session=\"a8b17b82-6f41-4b54-b644-a0d97cc02258\", element=\"8a1aad79-a008-4ee3-a526-ecd904e4b55e\")>]"
      ]
     },
     "execution_count": 56,
     "metadata": {},
     "output_type": "execute_result"
    }
   ],
   "source": [
    "#do form pegue todas as tag label existentes\n",
    "#ignorando a ieraquia usando o \"espaço/descendente\n",
    "driver.find_elements(By.CSS_SELECTOR, 'form  label')"
   ]
  },
  {
   "cell_type": "code",
   "execution_count": null,
   "id": "ffe60d80",
   "metadata": {},
   "outputs": [],
   "source": []
  }
 ],
 "metadata": {
  "kernelspec": {
   "display_name": "Python 3 (ipykernel)",
   "language": "python",
   "name": "python3"
  },
  "language_info": {
   "codemirror_mode": {
    "name": "ipython",
    "version": 3
   },
   "file_extension": ".py",
   "mimetype": "text/x-python",
   "name": "python",
   "nbconvert_exporter": "python",
   "pygments_lexer": "ipython3",
   "version": "3.9.12"
  }
 },
 "nbformat": 4,
 "nbformat_minor": 5
}
