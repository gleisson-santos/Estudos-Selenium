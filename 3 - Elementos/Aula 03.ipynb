{
 "cells": [
  {
   "cell_type": "code",
   "execution_count": 2,
   "id": "743d92ce",
   "metadata": {},
   "outputs": [],
   "source": [
    "from selenium.webdriver import Firefox\n",
    "from selenium.webdriver.common.by import By\n",
    "from time import sleep\n",
    "\n",
    "url = 'https://selenium.dunossauro.live/aula_06.html'\n",
    "driver = Firefox()\n",
    "driver.get(url)"
   ]
  },
  {
   "cell_type": "code",
   "execution_count": 6,
   "id": "3db8289e",
   "metadata": {},
   "outputs": [],
   "source": [
    "#o \".\" informa que o form é uma classe e a separação por espaço informa que o input é um descedndente\n",
    "driver.find_element(By.CSS_SELECTOR, '.form-l1c1 input[name=\"nome\"]').send_keys('teste1')"
   ]
  },
  {
   "cell_type": "code",
   "execution_count": 7,
   "id": "3af6d806",
   "metadata": {},
   "outputs": [],
   "source": [
    "#o \".\" informa que o form é uma classe e a separação por espaço informa que o input é um descedndente\n",
    "driver.find_element(By.CSS_SELECTOR, '.form-l0c0 input[name=\"nome\"]').send_keys('teste1')"
   ]
  },
  {
   "cell_type": "code",
   "execution_count": 8,
   "id": "2d8226c8",
   "metadata": {},
   "outputs": [],
   "source": [
    "#o \".\" informa que o form é uma classe e a separação por espaço informa que o input é um descedndente\n",
    "driver.find_element(By.CSS_SELECTOR, '.form-l1c0 input[name=\"nome\"]').send_keys('teste1')"
   ]
  }
 ],
 "metadata": {
  "kernelspec": {
   "display_name": "Python 3 (ipykernel)",
   "language": "python",
   "name": "python3"
  },
  "language_info": {
   "codemirror_mode": {
    "name": "ipython",
    "version": 3
   },
   "file_extension": ".py",
   "mimetype": "text/x-python",
   "name": "python",
   "nbconvert_exporter": "python",
   "pygments_lexer": "ipython3",
   "version": "3.9.7"
  }
 },
 "nbformat": 4,
 "nbformat_minor": 5
}
