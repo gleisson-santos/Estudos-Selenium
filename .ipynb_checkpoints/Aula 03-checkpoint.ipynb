{
 "cells": [
  {
   "cell_type": "code",
   "execution_count": 24,
   "id": "07ac0c44",
   "metadata": {
    "collapsed": true
   },
   "outputs": [
    {
     "name": "stdout",
     "output_type": "stream",
     "text": [
      "\n"
     ]
    },
    {
     "name": "stderr",
     "output_type": "stream",
     "text": [
      "[WDM] - ====== WebDriver manager ======\n",
      "[WDM] - Current google-chrome version is 103.0.5060\n",
      "[WDM] - Get LATEST chromedriver version for 103.0.5060 google-chrome\n",
      "[WDM] - Driver [C:\\Users\\gleisson.santos\\.wdm\\drivers\\chromedriver\\win32\\103.0.5060.134\\chromedriver.exe] found in cache\n",
      "C:\\Users\\GLEISS~1.SAN\\AppData\\Local\\Temp/ipykernel_7368/1799863203.py:11: DeprecationWarning: executable_path has been deprecated, please pass in a Service object\n",
      "  driver = webdriver.Chrome(ChromeDriverManager().install())\n"
     ]
    }
   ],
   "source": [
    "from selenium import webdriver\n",
    "from selenium.webdriver.common.by import By\n",
    "from selenium.webdriver.support.ui import WebDriverWait\n",
    "from selenium.webdriver.support import expected_conditions as EC\n",
    "from selenium.webdriver.chrome.options import Options\n",
    "from webdriver_manager.chrome import ChromeDriverManager\n",
    "\n",
    "\n",
    "options = Options()\n",
    "#chrome_options = webdriver.ChromeOptions()\n",
    "driver = webdriver.Chrome(ChromeDriverManager().install())\n"
   ]
  },
  {
   "cell_type": "code",
   "execution_count": 23,
   "id": "bc1d9e46",
   "metadata": {},
   "outputs": [],
   "source": [
    "from selenium.webdriver import Firefox\n",
    "from selenium.webdriver.common.by import By\n",
    "from time import sleep\n",
    "\n",
    "url = 'https://curso-python-selenium.netlify.app/aula_03.html'\n",
    "browser = Firefox()\n",
    "browser.get(url)\n",
    "sleep(2)\n"
   ]
  },
  {
   "cell_type": "code",
   "execution_count": null,
   "id": "c8ba12ad",
   "metadata": {},
   "outputs": [],
   "source": []
  },
  {
   "cell_type": "code",
   "execution_count": 47,
   "id": "6a134ee9",
   "metadata": {},
   "outputs": [
    {
     "name": "stdout",
     "output_type": "stream",
     "text": [
      "Valor do p ['0'], Valor do click: 1\n",
      "Valor do p ['0', '0'], Valor do click: 2\n",
      "Valor do p ['0', '0', '0'], Valor do click: 3\n",
      "Valor do p ['0', '0', '0', '0'], Valor do click: 4\n",
      "Valor do p ['0', '0', '0', '0', '0'], Valor do click: 5\n",
      "Valor do p ['0', '0', '0', '0', '0', '0'], Valor do click: 6\n",
      "Valor do p ['0', '0', '0', '0', '0', '0', '0'], Valor do click: 7\n",
      "Valor do p ['0', '0', '0', '0', '0', '0', '0', '0'], Valor do click: 8\n",
      "Valor do p ['0', '0', '0', '0', '0', '0', '0', '0', '0'], Valor do click: 9\n",
      "Valor do p ['0', '0', '0', '0', '0', '0', '0', '0', '0', '0'], Valor do click: 10\n"
     ]
    }
   ],
   "source": [
    "a = browser.find_element(By.TAG_NAME,'a' )\n",
    "\n",
    "aa = []\n",
    "for click in range(1,11):\n",
    "    p = browser.find_element(By.XPATH,'/html/body/p[1]')\n",
    "    a.click()\n",
    "    aa.append(p.text)\n",
    "    print(f\"Valor do p {aa}, Valor do click: {click}\")\n",
    "    #print(f\"Esse é o texto de a: {a.text}\")\n",
    "    #print(f\"Esse é o texto de p: {p.text}\")\n",
    "    \n",
    "#print(aa)"
   ]
  }
 ],
 "metadata": {
  "kernelspec": {
   "display_name": "venv",
   "language": "python",
   "name": "venv"
  },
  "language_info": {
   "codemirror_mode": {
    "name": "ipython",
    "version": 3
   },
   "file_extension": ".py",
   "mimetype": "text/x-python",
   "name": "python",
   "nbconvert_exporter": "python",
   "pygments_lexer": "ipython3",
   "version": "3.9.7"
  }
 },
 "nbformat": 4,
 "nbformat_minor": 5
}
