{
 "cells": [
  {
   "cell_type": "code",
   "execution_count": 1,
   "id": "3498bac9",
   "metadata": {},
   "outputs": [],
   "source": [
    "#AULA DE BUSCA ANINHADA\n",
    "from selenium.webdriver import Firefox\n",
    "from selenium.webdriver.common.by import By\n",
    "from time import sleep\n",
    "from urllib.parse import urlparse\n",
    "from pprint import pprint\n",
    "\n",
    "url = 'https://selenium.dunossauro.live/aula_04_b.html'\n",
    "driver = Firefox()\n",
    "driver.get(url)\n"
   ]
  },
  {
   "cell_type": "code",
   "execution_count": 23,
   "id": "609b8b45",
   "metadata": {},
   "outputs": [],
   "source": [
    "def find_by_text(diver, tag, text):\n",
    "    elementos = driver.find_elements(By.TAG_NAME, tag)\n",
    "    \n",
    "    for elemento in elementos:\n",
    "        if elemento.text == text:\n",
    "            return elemento"
   ]
  },
  {
   "cell_type": "code",
   "execution_count": 29,
   "id": "1cd6db4a",
   "metadata": {},
   "outputs": [],
   "source": [
    "box = ['um', 'dois', 'tres', 'quatro']\n",
    "\n",
    "for texto in box:\n",
    "    find_by_text(driver,'div', texto ).click()\n",
    "    sleep(0.3)\n",
    "    \n",
    "for texto in box:\n",
    "    driver.back()\n",
    "    \n",
    "for texto in box:  \n",
    "    sleep(0.3)\n",
    "    driver.forward()\n"
   ]
  }
 ],
 "metadata": {
  "kernelspec": {
   "display_name": "Python 3 (ipykernel)",
   "language": "python",
   "name": "python3"
  },
  "language_info": {
   "codemirror_mode": {
    "name": "ipython",
    "version": 3
   },
   "file_extension": ".py",
   "mimetype": "text/x-python",
   "name": "python",
   "nbconvert_exporter": "python",
   "pygments_lexer": "ipython3",
   "version": "3.9.7"
  }
 },
 "nbformat": 4,
 "nbformat_minor": 5
}
