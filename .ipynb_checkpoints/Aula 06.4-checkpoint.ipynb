{
 "cells": [
  {
   "cell_type": "code",
   "execution_count": 1,
   "id": "e7e0f0aa",
   "metadata": {},
   "outputs": [],
   "source": [
    "#AULA DE BUSCA ANINHADA\n",
    "from selenium.webdriver import Firefox\n",
    "from selenium.webdriver.common.by import By\n",
    "from time import sleep\n",
    "from urllib.parse import urlparse\n",
    "from pprint import pprint\n",
    "\n",
    "url = 'https://selenium.dunossauro.live/aula_04.html'\n",
    "#url = 'https://selenium.dunossauro.live/aula_04_b.html'\n",
    "driver = Firefox()\n",
    "driver.get(url)\n"
   ]
  },
  {
   "cell_type": "code",
   "execution_count": 24,
   "id": "5a0406a8",
   "metadata": {},
   "outputs": [
    {
     "data": {
      "text/plain": [
       "ParseResult(scheme='https', netloc='selenium.dunossauro.live', path='/aula_04.html', params='', query='', fragment='')"
      ]
     },
     "execution_count": 24,
     "metadata": {},
     "output_type": "execute_result"
    }
   ],
   "source": [
    "urel_pars = urlparse(driver.current_url)\n",
    "urel_pars"
   ]
  },
  {
   "cell_type": "code",
   "execution_count": null,
   "id": "a75cacf6",
   "metadata": {},
   "outputs": [],
   "source": [
    "'''\n",
    "1 - Pegar todos os links de aulas\n",
    "    {'nome da aula': 'link da aula'}\n",
    "    \n",
    "2 - Navegar até o exercicio 3\n",
    "    achar a url do exercicio 3 e  clicar\n",
    "'''"
   ]
  },
  {
   "cell_type": "code",
   "execution_count": 2,
   "id": "a9cae611",
   "metadata": {},
   "outputs": [
    {
     "data": {
      "text/plain": [
       "22"
      ]
     },
     "execution_count": 2,
     "metadata": {},
     "output_type": "execute_result"
    }
   ],
   "source": [
    "a = driver.find_elements(By.TAG_NAME, 'a')\n",
    "len(a)"
   ]
  },
  {
   "cell_type": "code",
   "execution_count": 3,
   "id": "bcebb1ff",
   "metadata": {},
   "outputs": [],
   "source": [
    "def get_links(driver, elemento): #dicionario\n",
    "    '''\n",
    "    Pega todos os links dentro de um elemento\n",
    "    - driver = instancia do navegador\n",
    "    - elemento = webelemenent ['aside', 'main', budy]\n",
    "    '''\n",
    "    resultado = {}\n",
    "    element = driver.find_element(By.TAG_NAME, elemento)\n",
    "    ancoras = element.find_elements(By.TAG_NAME, 'a')  \n",
    "    for ancora in ancoras:\n",
    "        resultado[ancora.text] = ancora.get_attribute('href')\n",
    "    return resultado\n"
   ]
  },
  {
   "cell_type": "code",
   "execution_count": 4,
   "id": "816ad686",
   "metadata": {},
   "outputs": [
    {
     "name": "stdout",
     "output_type": "stream",
     "text": [
      "{'Aula 3': 'https://selenium.dunossauro.live/aula_03.html',\n",
      " 'Aula 4': 'https://selenium.dunossauro.live/aula_04.html',\n",
      " 'Aula 5': 'https://selenium.dunossauro.live/aula_05.html',\n",
      " 'Aula 6': 'https://selenium.dunossauro.live/aula_06.html',\n",
      " 'Aula 7': 'https://selenium.dunossauro.live/aula_07.html',\n",
      " 'Aula 8': 'https://selenium.dunossauro.live/aula_08.html',\n",
      " 'Aula 9': 'https://selenium.dunossauro.live/aula_09.html'}\n"
     ]
    }
   ],
   "source": [
    "pprint(get_links(driver, 'aside'))"
   ]
  },
  {
   "cell_type": "code",
   "execution_count": 5,
   "id": "36a16418",
   "metadata": {},
   "outputs": [
    {
     "name": "stdout",
     "output_type": "stream",
     "text": [
      "{'Exercício 1': 'https://selenium.dunossauro.live/exercicio_01.html',\n",
      " 'Exercício 10': 'https://selenium.dunossauro.live/exercicio_010.html',\n",
      " 'Exercício 2': 'https://selenium.dunossauro.live/exercicio_02.html',\n",
      " 'Exercício 3': 'https://selenium.dunossauro.live/exercicio_03.html',\n",
      " 'Exercício 4': 'https://selenium.dunossauro.live/exercicio_04.html',\n",
      " 'Exercício 5': 'https://selenium.dunossauro.live/exercicio_05.html',\n",
      " 'Exercício 6': 'https://selenium.dunossauro.live/exercicio_06.html',\n",
      " 'Exercício 7': 'https://selenium.dunossauro.live/exercicio_07.html',\n",
      " 'Exercício 8': 'https://selenium.dunossauro.live/exercicio_08.html',\n",
      " 'Exercício 9': 'https://selenium.dunossauro.live/exercicio_09.html'}\n"
     ]
    }
   ],
   "source": [
    "exercicio = get_links(driver, 'main')\n",
    "pprint(exercicio)"
   ]
  },
  {
   "cell_type": "code",
   "execution_count": 7,
   "id": "f948470f",
   "metadata": {},
   "outputs": [],
   "source": [
    "driver.get(exercicio['Exercício 3'])\n"
   ]
  },
  {
   "cell_type": "code",
   "execution_count": 8,
   "id": "45e3ebf2",
   "metadata": {},
   "outputs": [],
   "source": [
    "driver.back()"
   ]
  }
 ],
 "metadata": {
  "kernelspec": {
   "display_name": "Python 3 (ipykernel)",
   "language": "python",
   "name": "python3"
  },
  "language_info": {
   "codemirror_mode": {
    "name": "ipython",
    "version": 3
   },
   "file_extension": ".py",
   "mimetype": "text/x-python",
   "name": "python",
   "nbconvert_exporter": "python",
   "pygments_lexer": "ipython3",
   "version": "3.9.7"
  }
 },
 "nbformat": 4,
 "nbformat_minor": 5
}
