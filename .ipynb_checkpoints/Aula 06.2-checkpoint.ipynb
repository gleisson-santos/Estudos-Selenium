{
 "cells": [
  {
   "cell_type": "code",
   "execution_count": 4,
   "id": "2c81fa77",
   "metadata": {},
   "outputs": [],
   "source": [
    "#AULA DE BUSCA ANINHADA\n",
    "from selenium.webdriver import Firefox\n",
    "from selenium.webdriver.common.by import By\n",
    "\n",
    "url = 'https://selenium.dunossauro.live/aula_04_a.html'\n",
    "driver = Firefox()\n",
    "driver.get(url)\n",
    "#sleep(2)"
   ]
  },
  {
   "cell_type": "code",
   "execution_count": 24,
   "id": "1e6fcae6",
   "metadata": {},
   "outputs": [],
   "source": [
    "def find_by_text(navegador, tag, text):\n",
    "    \"\"\"Encontrar o elemnto com o texo 'text,'.\n",
    "    \n",
    "    Aargumento:\n",
    "        - driver = Instacia do Navegador\n",
    "        - texto  = conteudo que deve estar na tag\n",
    "        - tag    = tag onde o estar sera procurado\n",
    "    \"\"\"\n",
    "    elem = driver.find_elements(By.TAG_NAME, tag)#lista\n",
    "    \n",
    "    for elemento in elem:\n",
    "        if elemento.text == text:\n",
    "            return elemento\n",
    "        \n",
    "        "
   ]
  },
  {
   "cell_type": "code",
   "execution_count": 27,
   "id": "fa518890",
   "metadata": {},
   "outputs": [
    {
     "data": {
      "text/plain": [
       "'DuckDuckGo'"
      ]
     },
     "execution_count": 27,
     "metadata": {},
     "output_type": "execute_result"
    }
   ],
   "source": [
    "ddg = find_by_text(driver, 'li', 'DuckDuckGo')\n",
    "ddg.text"
   ]
  },
  {
   "cell_type": "code",
   "execution_count": 32,
   "id": "5d45b316",
   "metadata": {},
   "outputs": [],
   "source": [
    "def find_by_href(navegador, link):\n",
    "    \"\"\"Encontrar o elemnto a o link 'link,'.\n",
    "    \n",
    "    Aargumento:\n",
    "        - driver = Instacia do Navegador\n",
    "        - link = link que sera proc em todo os \"a\"\n",
    "    \"\"\"\n",
    "    elem = driver.find_elements(By.TAG_NAME, \"a\")#lista\n",
    "    \n",
    "    for elemento in elem:\n",
    "        if link in elemento.get_attribute('href'):\n",
    "            return elemento\n",
    "        \n",
    "        "
   ]
  },
  {
   "cell_type": "code",
   "execution_count": 35,
   "id": "11af19c2",
   "metadata": {},
   "outputs": [
    {
     "data": {
      "text/plain": [
       "'http://google.com.br/'"
      ]
     },
     "execution_count": 35,
     "metadata": {},
     "output_type": "execute_result"
    }
   ],
   "source": [
    "ddg = find_by_href(driver, 'google')\n",
    "ddg.get_attribute('href')"
   ]
  },
  {
   "cell_type": "code",
   "execution_count": null,
   "id": "7643bbaf",
   "metadata": {},
   "outputs": [],
   "source": []
  },
  {
   "cell_type": "code",
   "execution_count": null,
   "id": "7a4a9447",
   "metadata": {},
   "outputs": [],
   "source": []
  },
  {
   "cell_type": "code",
   "execution_count": 28,
   "id": "0b70ea2f",
   "metadata": {},
   "outputs": [],
   "source": []
  }
 ],
 "metadata": {
  "kernelspec": {
   "display_name": "Python 3 (ipykernel)",
   "language": "python",
   "name": "python3"
  },
  "language_info": {
   "codemirror_mode": {
    "name": "ipython",
    "version": 3
   },
   "file_extension": ".py",
   "mimetype": "text/x-python",
   "name": "python",
   "nbconvert_exporter": "python",
   "pygments_lexer": "ipython3",
   "version": "3.9.7"
  }
 },
 "nbformat": 4,
 "nbformat_minor": 5
}
