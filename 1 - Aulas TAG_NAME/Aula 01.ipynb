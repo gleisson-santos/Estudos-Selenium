{
 "cells": [
  {
   "cell_type": "code",
   "execution_count": 3,
   "id": "0d54dacc",
   "metadata": {},
   "outputs": [
    {
     "name": "stdout",
     "output_type": "stream",
     "text": [
      "O que temos para comprar? arroz\n",
      "O que temos para comprar? feijão\n",
      "O que temos para comprar? sabão\n",
      "O que temos para comprar? pasta de dente\n",
      "O que temos para comprar? acabou\n",
      "['arroz', 'feijão', 'sabão', 'pasta de dente', 'acabou']\n"
     ]
    }
   ],
   "source": [
    "lista_compras = []\n",
    "resposta = ''\n",
    "\n",
    "while resposta != 'acabou':\n",
    "    resposta = input('O que temos para comprar? ')\n",
    "    lista_compras.append(resposta)\n",
    "    \n",
    "print(lista_compras)"
   ]
  }
 ],
 "metadata": {
  "kernelspec": {
   "display_name": "Python 3 (ipykernel)",
   "language": "python",
   "name": "python3"
  },
  "language_info": {
   "codemirror_mode": {
    "name": "ipython",
    "version": 3
   },
   "file_extension": ".py",
   "mimetype": "text/x-python",
   "name": "python",
   "nbconvert_exporter": "python",
   "pygments_lexer": "ipython3",
   "version": "3.9.12"
  }
 },
 "nbformat": 4,
 "nbformat_minor": 5
}
