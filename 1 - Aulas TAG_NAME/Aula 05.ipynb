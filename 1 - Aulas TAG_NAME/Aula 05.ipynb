{
 "cells": [
  {
   "cell_type": "code",
   "execution_count": 4,
   "id": "62432380",
   "metadata": {
    "scrolled": true
   },
   "outputs": [
    {
     "data": {
      "text/plain": [
       "'Olá Gleisson'"
      ]
     },
     "execution_count": 4,
     "metadata": {},
     "output_type": "execute_result"
    }
   ],
   "source": [
    "def diga_ola(nome_pessoa):\n",
    "    return f'Olá {nome_pessoa}'\n",
    "\n",
    "diga_ola('Gleisson')\n"
   ]
  },
  {
   "cell_type": "code",
   "execution_count": 8,
   "id": "3205d9f1",
   "metadata": {},
   "outputs": [
    {
     "name": "stdout",
     "output_type": "stream",
     "text": [
      "Fala um numero ai:  10\n",
      "Fala um numero ai:  15\n",
      "Fala um numero ai:  11\n",
      "Fala um numero ai:  15\n",
      "Fala um numero ai:  45\n",
      "Fala um numero ai:  55\n",
      "Fala um numero ai:  2\n",
      "Fala um numero ai:  36\n",
      "Fala um numero ai:  5\n",
      "Fala um numero ai:  6\n",
      "{'lista padrão': [10, 15, 11, 15, 45, 55, 2, 36, 5, 6], 'lista quadrada': [100, 225, 121, 225, 2025, 3025, 4, 1296, 25, 36], 'lista cubica': [1000, 3375, 1331, 3375, 91125, 166375, 8, 46656, 125, 216]}\n"
     ]
    }
   ],
   "source": [
    "\n",
    "def quadrado(lista_numeros):\n",
    "    lista_resposta = []\n",
    "    for numero in lista_numeros:\n",
    "        lista_resposta.append(numero **2)\n",
    "    return lista_resposta\n",
    "        \n",
    "        \n",
    "def cubo(lista_numeros):\n",
    "    lista_resposta = []\n",
    "    for numero in lista_numeros:\n",
    "        lista_resposta.append(numero **3)\n",
    "    return lista_resposta\n",
    "        \n",
    "\n",
    "lista_valores = []\n",
    "\n",
    "for valor in range(10):\n",
    "    lista_valores.append(int(input('Fala um numero ai:  ')))\n",
    "    \n",
    "    \n",
    "dicionario = {'lista padrão': lista_valores,\n",
    "             'lista quadrada': quadrado(lista_valores),\n",
    "             'lista cubica': cubo(lista_valores)\n",
    "              }\n",
    "\n",
    "print(dicionario)\n",
    "    "
   ]
  }
 ],
 "metadata": {
  "kernelspec": {
   "display_name": "Python 3 (ipykernel)",
   "language": "python",
   "name": "python3"
  },
  "language_info": {
   "codemirror_mode": {
    "name": "ipython",
    "version": 3
   },
   "file_extension": ".py",
   "mimetype": "text/x-python",
   "name": "python",
   "nbconvert_exporter": "python",
   "pygments_lexer": "ipython3",
   "version": "3.9.12"
  }
 },
 "nbformat": 4,
 "nbformat_minor": 5
}
