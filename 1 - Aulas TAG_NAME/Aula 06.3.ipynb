{
 "cells": [
  {
   "cell_type": "code",
   "execution_count": 9,
   "id": "3eba23b0",
   "metadata": {},
   "outputs": [],
   "source": [
    "#AULA DE BUSCA ANINHADA\n",
    "from selenium.webdriver import Firefox\n",
    "from selenium.webdriver.common.by import By\n",
    "\n",
    "url = 'https://selenium.dunossauro.live/aula_04_b.html'\n",
    "driver = Firefox()\n",
    "driver.get(url)\n",
    "#sleep(2)"
   ]
  },
  {
   "cell_type": "code",
   "execution_count": 10,
   "id": "343b8256",
   "metadata": {},
   "outputs": [],
   "source": [
    "def find_by_text(navegador, tag, text):\n",
    "    \"\"\"Encontrar o elemnto com o texo 'text,'.\n",
    "    \n",
    "    Aargumento:\n",
    "        - driver = Instacia do Navegador\n",
    "        - texto  = conteudo que deve estar na tag\n",
    "        - tag    = tag onde o estar sera procurado\n",
    "    \"\"\"\n",
    "    elem = driver.find_elements(By.TAG_NAME, tag)#lista\n",
    "    \n",
    "    for elemento in elem:\n",
    "        if elemento.text == text:\n",
    "            return elemento\n",
    "        "
   ]
  },
  {
   "cell_type": "code",
   "execution_count": 21,
   "id": "6a7ad86d",
   "metadata": {},
   "outputs": [],
   "source": [
    "from time import sleep\n",
    "\n",
    "nome_caixas = ['um', 'dois', 'tres', 'quatro']\n",
    "\n",
    "for nome in nome_caixas:\n",
    "    find_by_text(driver, 'div', nome).click()\n",
    "    \n",
    "for nome in nome_caixas:\n",
    "    sleep(0.5)\n",
    "    driver.back()\n",
    "    \n",
    "for nome in nome_caixas:\n",
    "    sleep(0.5)\n",
    "    driver.forward()\n",
    "    \n",
    "    "
   ]
  },
  {
   "cell_type": "code",
   "execution_count": null,
   "id": "c733a6da",
   "metadata": {},
   "outputs": [],
   "source": []
  }
 ],
 "metadata": {
  "kernelspec": {
   "display_name": "Python 3 (ipykernel)",
   "language": "python",
   "name": "python3"
  },
  "language_info": {
   "codemirror_mode": {
    "name": "ipython",
    "version": 3
   },
   "file_extension": ".py",
   "mimetype": "text/x-python",
   "name": "python",
   "nbconvert_exporter": "python",
   "pygments_lexer": "ipython3",
   "version": "3.9.12"
  }
 },
 "nbformat": 4,
 "nbformat_minor": 5
}
