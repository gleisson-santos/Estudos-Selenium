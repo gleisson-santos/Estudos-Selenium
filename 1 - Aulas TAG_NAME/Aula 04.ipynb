{
 "cells": [
  {
   "cell_type": "code",
   "execution_count": 24,
   "id": "07ac0c44",
   "metadata": {
    "collapsed": true
   },
   "outputs": [
    {
     "name": "stdout",
     "output_type": "stream",
     "text": [
      "\n"
     ]
    },
    {
     "name": "stderr",
     "output_type": "stream",
     "text": [
      "[WDM] - ====== WebDriver manager ======\n",
      "[WDM] - Current google-chrome version is 103.0.5060\n",
      "[WDM] - Get LATEST chromedriver version for 103.0.5060 google-chrome\n",
      "[WDM] - Driver [C:\\Users\\gleisson.santos\\.wdm\\drivers\\chromedriver\\win32\\103.0.5060.134\\chromedriver.exe] found in cache\n",
      "C:\\Users\\GLEISS~1.SAN\\AppData\\Local\\Temp/ipykernel_7368/1799863203.py:11: DeprecationWarning: executable_path has been deprecated, please pass in a Service object\n",
      "  driver = webdriver.Chrome(ChromeDriverManager().install())\n"
     ]
    }
   ],
   "source": [
    "from selenium import webdriver\n",
    "from selenium.webdriver.common.by import By\n",
    "from selenium.webdriver.support.ui import WebDriverWait\n",
    "from selenium.webdriver.support import expected_conditions as EC\n",
    "from selenium.webdriver.chrome.options import Options\n",
    "from webdriver_manager.chrome import ChromeDriverManager\n",
    "\n",
    "\n",
    "options = Options()\n",
    "#chrome_options = webdriver.ChromeOptions()\n",
    "driver = webdriver.Chrome(ChromeDriverManager().install())\n"
   ]
  },
  {
   "cell_type": "code",
   "execution_count": 1,
   "id": "bc1d9e46",
   "metadata": {},
   "outputs": [],
   "source": [
    "from selenium.webdriver import Firefox\n",
    "from selenium.webdriver.common.by import By\n",
    "from time import sleep\n",
    "\n",
    "url = 'https://curso-python-selenium.netlify.app/aula_03.html'\n",
    "driver = Firefox()\n",
    "driver.get(url)\n",
    "sleep(2)\n"
   ]
  },
  {
   "cell_type": "code",
   "execution_count": 2,
   "id": "784fa524",
   "metadata": {},
   "outputs": [
    {
     "name": "stdout",
     "output_type": "stream",
     "text": [
      "Valor do ultimo p: 0 Valor do click: 0\n",
      "Os valores são iguais? True\n",
      "Valor do ultimo p: 1 Valor do click: 1\n",
      "Os valores são iguais? True\n",
      "Valor do ultimo p: 2 Valor do click: 2\n",
      "Os valores são iguais? True\n",
      "Valor do ultimo p: 3 Valor do click: 3\n",
      "Os valores são iguais? True\n",
      "Valor do ultimo p: 4 Valor do click: 4\n",
      "Os valores são iguais? True\n",
      "Valor do ultimo p: 5 Valor do click: 5\n",
      "Os valores são iguais? True\n",
      "Valor do ultimo p: 6 Valor do click: 6\n",
      "Os valores são iguais? True\n",
      "Valor do ultimo p: 7 Valor do click: 7\n",
      "Os valores são iguais? True\n",
      "Valor do ultimo p: 8 Valor do click: 8\n",
      "Os valores são iguais? True\n",
      "Valor do ultimo p: 9 Valor do click: 9\n",
      "Os valores são iguais? True\n"
     ]
    }
   ],
   "source": [
    "a = driver.find_element(By.TAG_NAME,'a' )\n",
    "\n",
    "\n",
    "for click in range(10):\n",
    "    ps = driver.find_elements(By.TAG_NAME,'p')\n",
    "    a.click()\n",
    "    print(f\"Valor do ultimo p: {ps[-1].text} Valor do click: {click}\")\n",
    "    \n",
    "    print(f'Os valores são iguais? {ps[-1].text == str(click)}')\n",
    "    \n",
    "#driver.quit()"
   ]
  },
  {
   "cell_type": "code",
   "execution_count": 3,
   "id": "434669fd",
   "metadata": {},
   "outputs": [],
   "source": [
    "\n",
    "from selenium.webdriver import Firefox\n",
    "from selenium.webdriver.common.by import By\n",
    "from time import sleep\n",
    "\n",
    "url = 'https://curso-python-selenium.netlify.app/exercicio_02.html'\n",
    "driver = Firefox()\n",
    "driver.get(url)\n",
    "sleep(2)\n",
    "\n"
   ]
  },
  {
   "cell_type": "code",
   "execution_count": 198,
   "id": "14662c16",
   "metadata": {},
   "outputs": [
    {
     "ename": "TypeError",
     "evalue": "argument of type 'WebElement' is not iterable",
     "output_type": "error",
     "traceback": [
      "\u001b[1;31m---------------------------------------------------------------------------\u001b[0m",
      "\u001b[1;31mTypeError\u001b[0m                                 Traceback (most recent call last)",
      "\u001b[1;32mC:\\Users\\GLEISS~1.SAN\\AppData\\Local\\Temp/ipykernel_14020/3608903425.py\u001b[0m in \u001b[0;36m<module>\u001b[1;34m\u001b[0m\n\u001b[0;32m      4\u001b[0m \u001b[1;33m\u001b[0m\u001b[0m\n\u001b[0;32m      5\u001b[0m \u001b[1;32mfor\u001b[0m \u001b[0mitem\u001b[0m \u001b[1;32min\u001b[0m \u001b[0mp\u001b[0m\u001b[1;33m:\u001b[0m\u001b[1;33m\u001b[0m\u001b[1;33m\u001b[0m\u001b[0m\n\u001b[1;32m----> 6\u001b[1;33m     \u001b[1;32mif\u001b[0m \u001b[1;34m'Você ganhou'\u001b[0m \u001b[1;32min\u001b[0m \u001b[0mitem\u001b[0m\u001b[1;33m:\u001b[0m\u001b[1;33m\u001b[0m\u001b[1;33m\u001b[0m\u001b[0m\n\u001b[0m\u001b[0;32m      7\u001b[0m         \u001b[0mprint\u001b[0m\u001b[1;33m(\u001b[0m\u001b[1;34m'Valor encontrado, vamos parar!'\u001b[0m\u001b[1;33m)\u001b[0m\u001b[1;33m\u001b[0m\u001b[1;33m\u001b[0m\u001b[0m\n\u001b[0;32m      8\u001b[0m     \u001b[1;32melse\u001b[0m\u001b[1;33m:\u001b[0m\u001b[1;33m\u001b[0m\u001b[1;33m\u001b[0m\u001b[0m\n",
      "\u001b[1;31mTypeError\u001b[0m: argument of type 'WebElement' is not iterable"
     ]
    }
   ],
   "source": [
    "a = driver.find_element(By.TAG_NAME, 'a')\n",
    "p = driver.find_elements(By.TAG_NAME,'p')\n",
    "import time\n",
    "\n",
    "for item in p:\n",
    "    if 'Você ganhou' in item:\n",
    "        print('Valor encontrado, vamos parar!')\n",
    "    else:\n",
    "        a.click()\n",
    "\n",
    "\n",
    "\n"
   ]
  },
  {
   "cell_type": "code",
   "execution_count": null,
   "id": "4b21b25a",
   "metadata": {},
   "outputs": [],
   "source": []
  }
 ],
 "metadata": {
  "kernelspec": {
   "display_name": "Python 3 (ipykernel)",
   "language": "python",
   "name": "python3"
  },
  "language_info": {
   "codemirror_mode": {
    "name": "ipython",
    "version": 3
   },
   "file_extension": ".py",
   "mimetype": "text/x-python",
   "name": "python",
   "nbconvert_exporter": "python",
   "pygments_lexer": "ipython3",
   "version": "3.9.7"
  }
 },
 "nbformat": 4,
 "nbformat_minor": 5
}
