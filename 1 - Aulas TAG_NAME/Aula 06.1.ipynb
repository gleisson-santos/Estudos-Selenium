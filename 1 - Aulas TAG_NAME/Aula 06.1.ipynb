{
 "cells": [
  {
   "cell_type": "code",
   "execution_count": 11,
   "id": "f570bd8c",
   "metadata": {},
   "outputs": [],
   "source": [
    "#AULA DE BUSCA ANINHADA\n",
    "from selenium.webdriver import Firefox\n",
    "from selenium.webdriver.common.by import By\n",
    "\n",
    "url = 'https://selenium.dunossauro.live/aula_04_a.html'\n",
    "driver = Firefox()\n",
    "driver.get(url)\n",
    "#sleep(2)\n"
   ]
  },
  {
   "cell_type": "code",
   "execution_count": 39,
   "id": "2a5839fa",
   "metadata": {},
   "outputs": [
    {
     "data": {
      "text/plain": [
       "[<selenium.webdriver.remote.webelement.WebElement (session=\"84c9191e-5ade-4c6d-b948-a3ffa44ab154\", element=\"536de535-6ffe-4431-b890-dabdebdd79da\")>,\n",
       " <selenium.webdriver.remote.webelement.WebElement (session=\"84c9191e-5ade-4c6d-b948-a3ffa44ab154\", element=\"731dc41f-ac88-46a2-9d7a-3cdf69850e0a\")>]"
      ]
     },
     "execution_count": 39,
     "metadata": {},
     "output_type": "execute_result"
    }
   ],
   "source": [
    "#buscamos ul\n",
    "lista_or = driver.find_elements(By.TAG_NAME, 'ul')\n",
    "lista_or"
   ]
  },
  {
   "cell_type": "code",
   "execution_count": 52,
   "id": "f0292dc9",
   "metadata": {},
   "outputs": [
    {
     "name": "stdout",
     "output_type": "stream",
     "text": [
      "DuckDuckGo\n"
     ]
    }
   ],
   "source": [
    "#buscamos todos os li\n",
    "lista_or = driver.find_elements(By.TAG_NAME, 'li')\n",
    "print(lista_or[0].text)"
   ]
  },
  {
   "cell_type": "code",
   "execution_count": 53,
   "id": "8b8c7676",
   "metadata": {},
   "outputs": [
    {
     "data": {
      "text/plain": [
       "'DuckDuckGo'"
      ]
     },
     "execution_count": 53,
     "metadata": {},
     "output_type": "execute_result"
    }
   ],
   "source": [
    "#no primeiro li, buscamos \"a\" e pegamos o seu text\n",
    "lista_or[0].find_element(By.TAG_NAME, \"a\").text"
   ]
  },
  {
   "cell_type": "code",
   "execution_count": null,
   "id": "8f6e6734",
   "metadata": {},
   "outputs": [],
   "source": []
  }
 ],
 "metadata": {
  "kernelspec": {
   "display_name": "Python 3 (ipykernel)",
   "language": "python",
   "name": "python3"
  },
  "language_info": {
   "codemirror_mode": {
    "name": "ipython",
    "version": 3
   },
   "file_extension": ".py",
   "mimetype": "text/x-python",
   "name": "python",
   "nbconvert_exporter": "python",
   "pygments_lexer": "ipython3",
   "version": "3.9.12"
  }
 },
 "nbformat": 4,
 "nbformat_minor": 5
}
