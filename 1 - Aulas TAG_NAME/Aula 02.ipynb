{
 "cells": [
  {
   "cell_type": "code",
   "execution_count": 7,
   "id": "14020e6f",
   "metadata": {
    "scrolled": true
   },
   "outputs": [
    {
     "name": "stdout",
     "output_type": "stream",
     "text": [
      "Qual sua data de nascimento: 26/09/1989\n",
      "Você nasceu em 26 de 09 de 1989\n"
     ]
    }
   ],
   "source": [
    "resposta = input('Qual sua data de nascimento: ')\n",
    "\n",
    "dia, mes, ano = resposta.split('/')\n",
    "\n",
    "print('Você nasceu em {} de {} de {}'.format(dia, mes, ano))"
   ]
  },
  {
   "cell_type": "code",
   "execution_count": 16,
   "id": "cfffa6e1",
   "metadata": {
    "collapsed": true
   },
   "outputs": [
    {
     "name": "stdout",
     "output_type": "stream",
     "text": [
      "Vamos da um role? n\n",
      "Boraa [s/n]? n\n",
      "Boraaa [s/n]? n\n",
      "Boraaaa [s/n]? n\n",
      "Boraaaaa [s/n]? ai como você é chato\n",
      "Legal, boraaaaaa!!!\n"
     ]
    }
   ],
   "source": [
    "#Utilizando o While\n",
    "resposta = input('Vamos da um role? ')\n",
    "n = 1\n",
    "\n",
    "while resposta != 's':\n",
    "    resposta = input(f'Bora{\"a\" * n} [s/n]? ')\n",
    "    n += 1\n",
    "    if 'chato' in resposta:\n",
    "        break\n",
    "    \n",
    "print(f'Legal, bora{\"a\"  * n}!!!')"
   ]
  },
  {
   "cell_type": "code",
   "execution_count": null,
   "id": "00bbc1a5",
   "metadata": {},
   "outputs": [],
   "source": [
    "#utilizando o for\n",
    "\n"
   ]
  }
 ],
 "metadata": {
  "kernelspec": {
   "display_name": "Python 3 (ipykernel)",
   "language": "python",
   "name": "python3"
  },
  "language_info": {
   "codemirror_mode": {
    "name": "ipython",
    "version": 3
   },
   "file_extension": ".py",
   "mimetype": "text/x-python",
   "name": "python",
   "nbconvert_exporter": "python",
   "pygments_lexer": "ipython3",
   "version": "3.9.7"
  }
 },
 "nbformat": 4,
 "nbformat_minor": 5
}
