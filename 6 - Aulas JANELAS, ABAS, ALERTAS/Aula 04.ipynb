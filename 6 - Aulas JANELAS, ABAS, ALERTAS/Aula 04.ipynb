{
 "cells": [
  {
   "cell_type": "code",
   "execution_count": 1,
   "id": "024eecba",
   "metadata": {},
   "outputs": [],
   "source": [
    "from selenium.webdriver import Firefox\n",
    "#from selenium.webdriver.support.ui import WebDriverWait\n",
    "from selenium.webdriver.common.by import By\n",
    "#from selenium.webdriver.support.wait import WebDriverWait\n",
    "#from selenium.webdriver.support.expected_conditions import alert_is_present\n",
    "from time import sleep\n",
    "\n",
    "url = 'https://selenium.dunossauro.live/aula_11_b.html'\n",
    "driver = Firefox()\n",
    "driver.get(url)"
   ]
  },
  {
   "cell_type": "code",
   "execution_count": 30,
   "id": "f62fc61a",
   "metadata": {},
   "outputs": [
    {
     "data": {
      "text/plain": [
       "'https://selenium.dunossauro.live/aula_11_b.html'"
      ]
     },
     "execution_count": 30,
     "metadata": {},
     "output_type": "execute_result"
    }
   ],
   "source": [
    "driver.current_url"
   ]
  },
  {
   "cell_type": "code",
   "execution_count": 32,
   "id": "1a39c494",
   "metadata": {},
   "outputs": [
    {
     "data": {
      "text/plain": [
       "'30497c37-d531-46ed-a62a-6a1d89768579'"
      ]
     },
     "execution_count": 32,
     "metadata": {},
     "output_type": "execute_result"
    }
   ],
   "source": [
    "driver.current_window_handle #Id da janela atual"
   ]
  },
  {
   "cell_type": "code",
   "execution_count": 37,
   "id": "5f69b9f8",
   "metadata": {},
   "outputs": [],
   "source": [
    "wids = driver.window_handles #ids de todas as janelas\n"
   ]
  },
  {
   "cell_type": "code",
   "execution_count": 35,
   "id": "9a3a22e0",
   "metadata": {},
   "outputs": [],
   "source": [
    "driver.switch_to.window('b62b222a-09fc-4e3b-8049-9a50fc1aa204')"
   ]
  },
  {
   "cell_type": "code",
   "execution_count": 42,
   "id": "c8139662",
   "metadata": {},
   "outputs": [],
   "source": [
    "def find_window(url: str):\n",
    "    for window in wids:\n",
    "        driver.switch_to.window(window)\n",
    "        if url in driver.current_url:\n",
    "            break\n",
    "\n",
    "find_window('google')"
   ]
  }
 ],
 "metadata": {
  "kernelspec": {
   "display_name": "Python 3 (ipykernel)",
   "language": "python",
   "name": "python3"
  },
  "language_info": {
   "codemirror_mode": {
    "name": "ipython",
    "version": 3
   },
   "file_extension": ".py",
   "mimetype": "text/x-python",
   "name": "python",
   "nbconvert_exporter": "python",
   "pygments_lexer": "ipython3",
   "version": "3.9.7"
  }
 },
 "nbformat": 4,
 "nbformat_minor": 5
}
