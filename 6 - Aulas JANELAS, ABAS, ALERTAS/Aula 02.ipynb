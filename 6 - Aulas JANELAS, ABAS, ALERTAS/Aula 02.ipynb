{
 "cells": [
  {
   "cell_type": "code",
   "execution_count": 37,
   "id": "f85b142d",
   "metadata": {},
   "outputs": [],
   "source": [
    "from selenium.webdriver import Firefox\n",
    "from selenium.webdriver.support.ui import WebDriverWait\n",
    "from selenium.webdriver.common.by import By\n",
    "from selenium.webdriver.common.alert import Alert\n",
    "from time import sleep\n",
    "\n",
    "url = 'https://selenium.dunossauro.live/aula_11_a.html'\n",
    "driver = Firefox()\n",
    "driver.get(url)"
   ]
  },
  {
   "cell_type": "code",
   "execution_count": 6,
   "id": "7fb289c0",
   "metadata": {},
   "outputs": [],
   "source": [
    "driver.find_element(By.ID, 'prompt').click()\n",
    "alerta = Alert(driver)\n",
    "alerta.send_keys('Gleisson')\n",
    "alerta.accept()\n",
    "#alerta.dismiss()"
   ]
  },
  {
   "cell_type": "code",
   "execution_count": 38,
   "id": "928cbcc6",
   "metadata": {},
   "outputs": [],
   "source": [
    "sleep(2)\n",
    "alerta = Alert(driver)"
   ]
  },
  {
   "cell_type": "code",
   "execution_count": 39,
   "id": "961a9c8d",
   "metadata": {},
   "outputs": [],
   "source": [
    "driver.find_element(By.ID, 'all').click()"
   ]
  },
  {
   "cell_type": "code",
   "execution_count": 40,
   "id": "db0b2fb2",
   "metadata": {},
   "outputs": [],
   "source": [
    "alerta.accept()\n",
    "sleep(2)\n",
    "alerta.send_keys('Gleisson')\n",
    "sleep(2)\n",
    "alerta.accept()\n",
    "sleep(2)\n",
    "alerta.accept()"
   ]
  },
  {
   "cell_type": "code",
   "execution_count": 21,
   "id": "5501e634",
   "metadata": {},
   "outputs": [],
   "source": []
  },
  {
   "cell_type": "code",
   "execution_count": 22,
   "id": "8e04f6d0",
   "metadata": {},
   "outputs": [],
   "source": []
  },
  {
   "cell_type": "code",
   "execution_count": 23,
   "id": "d79901fa",
   "metadata": {},
   "outputs": [],
   "source": []
  },
  {
   "cell_type": "code",
   "execution_count": 24,
   "id": "667bb013",
   "metadata": {},
   "outputs": [],
   "source": []
  },
  {
   "cell_type": "code",
   "execution_count": null,
   "id": "203aadd6",
   "metadata": {},
   "outputs": [],
   "source": [
    "alerta.dismiss()"
   ]
  }
 ],
 "metadata": {
  "kernelspec": {
   "display_name": "Python 3 (ipykernel)",
   "language": "python",
   "name": "python3"
  },
  "language_info": {
   "codemirror_mode": {
    "name": "ipython",
    "version": 3
   },
   "file_extension": ".py",
   "mimetype": "text/x-python",
   "name": "python",
   "nbconvert_exporter": "python",
   "pygments_lexer": "ipython3",
   "version": "3.9.12"
  }
 },
 "nbformat": 4,
 "nbformat_minor": 5
}
