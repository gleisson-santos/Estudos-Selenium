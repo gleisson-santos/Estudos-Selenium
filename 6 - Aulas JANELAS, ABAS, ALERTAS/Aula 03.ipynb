{
 "cells": [
  {
   "cell_type": "code",
   "execution_count": 1,
   "id": "60fe37dc",
   "metadata": {},
   "outputs": [],
   "source": [
    "from selenium.webdriver import Firefox\n",
    "from selenium.webdriver.support.ui import WebDriverWait\n",
    "from selenium.webdriver.common.by import By\n",
    "from selenium.webdriver.support.wait import WebDriverWait\n",
    "from selenium.webdriver.support.expected_conditions import alert_is_present\n",
    "from time import sleep\n",
    "\n",
    "url = 'https://selenium.dunossauro.live/aula_11_a.html'\n",
    "driver = Firefox()\n",
    "driver.get(url)\n",
    "\n",
    "wdw = WebDriverWait(driver, 30)"
   ]
  },
  {
   "cell_type": "code",
   "execution_count": 7,
   "id": "8e5aecca",
   "metadata": {},
   "outputs": [
    {
     "name": "stdout",
     "output_type": "stream",
     "text": [
      "Antes de esperar o alerta\n",
      "Depois de esperar o alerta\n"
     ]
    }
   ],
   "source": [
    "sleep(2)\n",
    "print('Antes de esperar o alerta')\n",
    "\n",
    "driver.find_element(By.ID, 'alertd').click()\n",
    "\n",
    "print('Depois de esperar o alerta')\n",
    "\n",
    "alerta = wdw.until(alert_is_present()) #Esperar o alerta retorna o alerta\n",
    "alerta.accept()"
   ]
  },
  {
   "cell_type": "code",
   "execution_count": 3,
   "id": "7b4d176d",
   "metadata": {},
   "outputs": [],
   "source": [
    "driver.find_element(By.ID, 'alertd').click()"
   ]
  },
  {
   "cell_type": "code",
   "execution_count": 4,
   "id": "bcc2a1da",
   "metadata": {},
   "outputs": [
    {
     "data": {
      "text/plain": [
       "<selenium.webdriver.common.alert.Alert at 0x2195134de80>"
      ]
     },
     "execution_count": 4,
     "metadata": {},
     "output_type": "execute_result"
    }
   ],
   "source": [
    "wdw.until(alert_is_present())"
   ]
  },
  {
   "cell_type": "code",
   "execution_count": 5,
   "id": "e522e18a",
   "metadata": {},
   "outputs": [],
   "source": [
    "alerta.accept()"
   ]
  }
 ],
 "metadata": {
  "kernelspec": {
   "display_name": "Python 3 (ipykernel)",
   "language": "python",
   "name": "python3"
  },
  "language_info": {
   "codemirror_mode": {
    "name": "ipython",
    "version": 3
   },
   "file_extension": ".py",
   "mimetype": "text/x-python",
   "name": "python",
   "nbconvert_exporter": "python",
   "pygments_lexer": "ipython3",
   "version": "3.9.12"
  }
 },
 "nbformat": 4,
 "nbformat_minor": 5
}
