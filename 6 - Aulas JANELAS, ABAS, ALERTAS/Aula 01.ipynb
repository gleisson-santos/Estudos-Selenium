{
 "cells": [
  {
   "cell_type": "code",
   "execution_count": 26,
   "id": "2b8525e5",
   "metadata": {},
   "outputs": [],
   "source": [
    "from selenium.webdriver import Firefox\n",
    "from selenium.webdriver.support.ui import WebDriverWait\n",
    "from selenium.webdriver.common.by import By\n",
    "from selenium.webdriver.common.alert import Alert\n",
    "\n",
    "url = 'https://selenium.dunossauro.live/aula_11_a.html'\n",
    "driver = Firefox()\n",
    "driver.get(url)"
   ]
  },
  {
   "cell_type": "code",
   "execution_count": 24,
   "id": "29055c7d",
   "metadata": {},
   "outputs": [],
   "source": [
    "#Exemplo alerta 01\n",
    "driver.find_element(By.ID, 'alert').click()\n",
    "alerta = driver.switch_to.alert\n",
    "dir(alerta)\n",
    "\n",
    "alerta.accept() #Confirma ou clica no ok\n",
    "alerta.dismiss() #Confirma ou clica no ok"
   ]
  },
  {
   "cell_type": "code",
   "execution_count": 46,
   "id": "0087f1d2",
   "metadata": {},
   "outputs": [],
   "source": [
    "#Exemplo alerta 02\n",
    "\n",
    "driver.find_element(By.ID, 'alert').click()\n",
    "alerta = Alert(driver)\n",
    "alerta.accept() #Confirma ou clica no ok\n"
   ]
  },
  {
   "cell_type": "code",
   "execution_count": 40,
   "id": "df020247",
   "metadata": {},
   "outputs": [],
   "source": [
    "alerta.accept() #Confirma ou clica no ok\n",
    "#alerta.dismiss() #Confirma ou clica no ok"
   ]
  },
  {
   "cell_type": "code",
   "execution_count": 25,
   "id": "2dd11577",
   "metadata": {},
   "outputs": [],
   "source": []
  }
 ],
 "metadata": {
  "kernelspec": {
   "display_name": "Python 3 (ipykernel)",
   "language": "python",
   "name": "python3"
  },
  "language_info": {
   "codemirror_mode": {
    "name": "ipython",
    "version": 3
   },
   "file_extension": ".py",
   "mimetype": "text/x-python",
   "name": "python",
   "nbconvert_exporter": "python",
   "pygments_lexer": "ipython3",
   "version": "3.9.12"
  }
 },
 "nbformat": 4,
 "nbformat_minor": 5
}
