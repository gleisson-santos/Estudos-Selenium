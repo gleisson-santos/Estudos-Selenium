{
 "cells": [
  {
   "cell_type": "code",
   "execution_count": 4,
   "id": "e4f94cbb",
   "metadata": {},
   "outputs": [
    {
     "name": "stdout",
     "output_type": "stream",
     "text": [
      "h1 disponível\n"
     ]
    }
   ],
   "source": [
    "from selenium.webdriver import Firefox\n",
    "from selenium.webdriver.support.ui import WebDriverWait\n",
    "from selenium.webdriver.common.by import By\n",
    "from selenium.webdriver.support.expected_conditions import (\n",
    "    visibility_of_any_elements_located,\n",
    "    visibility_of_all_elements_located\n",
    ")\n",
    "\n",
    "\n",
    "\n",
    "url = 'https://selenium.dunossauro.live/aula_10_b.html'\n",
    "driver = Firefox()\n",
    "driver.get(url)\n",
    "\n",
    "locator = (By.TAG_NAME, 'h1')\n",
    "wdw = WebDriverWait(driver, 60)\n",
    "#Qualquer 'h1' que ficar visival vai confirmar como verdadeiro\n",
    "wdw.until_not(\n",
    "    visibility_of_any_elements_located(locator),\n",
    "    'h1 não foi encontrado na página. Espera de 60seg.'\n",
    ")\n",
    "\n",
    "print('h1 disponível')"
   ]
  }
 ],
 "metadata": {
  "kernelspec": {
   "display_name": "Python 3 (ipykernel)",
   "language": "python",
   "name": "python3"
  },
  "language_info": {
   "codemirror_mode": {
    "name": "ipython",
    "version": 3
   },
   "file_extension": ".py",
   "mimetype": "text/x-python",
   "name": "python",
   "nbconvert_exporter": "python",
   "pygments_lexer": "ipython3",
   "version": "3.9.7"
  }
 },
 "nbformat": 4,
 "nbformat_minor": 5
}
