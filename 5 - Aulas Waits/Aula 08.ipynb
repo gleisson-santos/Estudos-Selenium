{
 "cells": [
  {
   "cell_type": "code",
   "execution_count": 3,
   "id": "9f75311e",
   "metadata": {},
   "outputs": [
    {
     "name": "stdout",
     "output_type": "stream",
     "text": [
      "https://selenium.dunossauro.live/aula_10_c.html https://selenium.dunossauro.live/aula_10_c.html#\n"
     ]
    }
   ],
   "source": [
    "from selenium.webdriver import Firefox\n",
    "from selenium.webdriver.support.ui import WebDriverWait\n",
    "from selenium.webdriver.common.by import By\n",
    "from selenium.webdriver.support.expected_conditions import (\n",
    "    url_changes\n",
    ")\n",
    "\n",
    "url = 'https://selenium.dunossauro.live/aula_10_c.html'\n",
    "driver = Firefox()\n",
    "driver.get(url)\n",
    "\n",
    "wdw = WebDriverWait(driver, 60)\n",
    "\n",
    "link = driver.find_element(By.CSS_SELECTOR, '.body_b a')\n",
    "link.click()\n",
    "\n",
    "wdw.until(\n",
    "    url_changes(url)    \n",
    ")\n",
    "\n",
    "print(url, driver.current_url)"
   ]
  }
 ],
 "metadata": {
  "kernelspec": {
   "display_name": "Python 3 (ipykernel)",
   "language": "python",
   "name": "python3"
  },
  "language_info": {
   "codemirror_mode": {
    "name": "ipython",
    "version": 3
   },
   "file_extension": ".py",
   "mimetype": "text/x-python",
   "name": "python",
   "nbconvert_exporter": "python",
   "pygments_lexer": "ipython3",
   "version": "3.9.7"
  }
 },
 "nbformat": 4,
 "nbformat_minor": 5
}
