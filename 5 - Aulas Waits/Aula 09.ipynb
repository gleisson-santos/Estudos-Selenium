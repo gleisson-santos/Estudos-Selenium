{
 "cells": [
  {
   "cell_type": "code",
   "execution_count": 20,
   "id": "ba94cdec",
   "metadata": {},
   "outputs": [],
   "source": [
    "from selenium.webdriver import Firefox\n",
    "from selenium.webdriver.support.ui import WebDriverWait\n",
    "from selenium.webdriver.common.by import By\n",
    "from selenium.webdriver.support.expected_conditions import (\n",
    "    text_to_be_present_in_element,\n",
    "    \n",
    ")\n",
    "from time import sleep\n",
    "\n",
    "url = 'https://selenium.dunossauro.live/aula_10_d.html'\n",
    "driver = Firefox()\n",
    "driver.get(url)\n",
    "\n",
    "locator_h4 = (By.TAG_NAME, 'h4')\n",
    "locator_nome = (By.CSS_SELECTOR, 'input[name=\"nome\"]')\n",
    "\n",
    "wdw = WebDriverWait(driver, 50)\n",
    "wdw.until(\n",
    "    text_to_be_present_in_element(\n",
    "        locator_h4,\n",
    "        'Digite'\n",
    "    )\n",
    "    \n",
    ")\n",
    "driver.find_element(*locator_nome).send_keys('Gleisson')\n",
    "\n",
    "sleep(5)\n",
    "\n",
    "locator_email = (By.CSS_SELECTOR, 'input[name=\"email\"]')\n",
    "driver.find_element(*locator_email).send_keys('glfx20@gmail.com')\n",
    "\n",
    "sleep(5)\n",
    "\n",
    "locator_email = (By.CSS_SELECTOR, 'input[name=\"c_email\"]')\n",
    "driver.find_element(*locator_email).send_keys('glfx20@gmail.com') * #desempacotar tuplas\n",
    "\n",
    "\n",
    "#criar uma função né mestre!!!! \n",
    "\n"
   ]
  },
  {
   "cell_type": "code",
   "execution_count": null,
   "id": "28fc200b",
   "metadata": {},
   "outputs": [],
   "source": []
  }
 ],
 "metadata": {
  "kernelspec": {
   "display_name": "Python 3 (ipykernel)",
   "language": "python",
   "name": "python3"
  },
  "language_info": {
   "codemirror_mode": {
    "name": "ipython",
    "version": 3
   },
   "file_extension": ".py",
   "mimetype": "text/x-python",
   "name": "python",
   "nbconvert_exporter": "python",
   "pygments_lexer": "ipython3",
   "version": "3.9.7"
  }
 },
 "nbformat": 4,
 "nbformat_minor": 5
}
