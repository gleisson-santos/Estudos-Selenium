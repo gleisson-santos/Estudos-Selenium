{
 "cells": [
  {
   "cell_type": "code",
   "execution_count": 1,
   "id": "58ee2b00",
   "metadata": {},
   "outputs": [],
   "source": [
    "from selenium.webdriver import Firefox\n",
    "from selenium.webdriver.common.by import By\n",
    "from selenium.webdriver.support.ui import WebDriverWait\n",
    "from time import sleep\n",
    "\n",
    "url = 'https://selenium.dunossauro.live/aula_09.html'\n",
    "driver = Firefox()\n",
    "driver.get(url)\n"
   ]
  },
  {
   "cell_type": "code",
   "execution_count": 2,
   "id": "80f6ad47",
   "metadata": {},
   "outputs": [
    {
     "name": "stderr",
     "output_type": "stream",
     "text": [
      "C:\\Users\\GLEISS~1.SAN\\AppData\\Local\\Temp/ipykernel_6824/1054510959.py:32: DeprecationWarning: find_element_by_css_selector is deprecated. Please use find_element(by=By.CSS_SELECTOR, value=css_selector) instead\n",
      "  driver.find_element_by_css_selector('button').click()\n"
     ]
    },
    {
     "ename": "NameError",
     "evalue": "name 'partial' is not defined",
     "output_type": "error",
     "traceback": [
      "\u001b[1;31m---------------------------------------------------------------------------\u001b[0m",
      "\u001b[1;31mNameError\u001b[0m                                 Traceback (most recent call last)",
      "\u001b[1;32mC:\\Users\\GLEISS~1.SAN\\AppData\\Local\\Temp/ipykernel_6824/1054510959.py\u001b[0m in \u001b[0;36m<module>\u001b[1;34m\u001b[0m\n\u001b[0;32m     33\u001b[0m \u001b[1;33m\u001b[0m\u001b[0m\n\u001b[0;32m     34\u001b[0m wdw.until(\n\u001b[1;32m---> 35\u001b[1;33m     \u001b[0mpartial\u001b[0m\u001b[1;33m(\u001b[0m\u001b[0mesperar_elemento\u001b[0m\u001b[1;33m,\u001b[0m \u001b[1;34m'id'\u001b[0m\u001b[1;33m,\u001b[0m \u001b[1;34m'finished'\u001b[0m\u001b[1;33m)\u001b[0m\u001b[1;33m,\u001b[0m\u001b[1;33m\u001b[0m\u001b[1;33m\u001b[0m\u001b[0m\n\u001b[0m\u001b[0;32m     36\u001b[0m     \u001b[1;34m'A mensagem de sucesso não apareceu'\u001b[0m\u001b[1;33m\u001b[0m\u001b[1;33m\u001b[0m\u001b[0m\n\u001b[0;32m     37\u001b[0m )\n",
      "\u001b[1;31mNameError\u001b[0m: name 'partial' is not defined"
     ]
    }
   ],
   "source": [
    "class EsperarElementoNotClick:\n",
    "    def __init__(self, locator):\n",
    "        self.locator = locator\n",
    "\n",
    "    def __call__(self, webdriver):\n",
    "        elementos = webdriver.find_elements(*self.locator)\n",
    "        if elementos:\n",
    "            return 'unclick' in elementos[0].get_attribute('class')\n",
    "        return False\n",
    "\n",
    "\n",
    "def esperar_elemento(by, elemento, webdriver):\n",
    "    if webdriver.find_elements(by, elemento):\n",
    "        return True\n",
    "    return False\n",
    "\n",
    "\n",
    "locator = (By.CSS_SELECTOR, 'button')\n",
    "esperar_botao = EsperarElementoNotClick(locator)\n",
    "\n",
    "\n",
    "url = 'https://selenium.dunossauro.live/aula_09.html'\n",
    "\n",
    "driver = Firefox()\n",
    "\n",
    "wdw = WebDriverWait(driver, 10)\n",
    "\n",
    "driver.get(url)\n",
    "\n",
    "wdw.until_not(esperar_botao, 'Deu ruim')\n",
    "\n",
    "driver.find_element_by_css_selector('button').click()\n",
    "\n",
    "wdw.until(\n",
    "    partial(esperar_elemento, 'id', 'finished'),\n",
    "    'A mensagem de sucesso não apareceu'\n",
    ")\n",
    "\n",
    "sucesso = driver.find_element_by_css_selector('#finished')\n",
    "\n",
    "assert sucesso.text == 'Carregamento concluído'"
   ]
  }
 ],
 "metadata": {
  "kernelspec": {
   "display_name": "Python 3 (ipykernel)",
   "language": "python",
   "name": "python3"
  },
  "language_info": {
   "codemirror_mode": {
    "name": "ipython",
    "version": 3
   },
   "file_extension": ".py",
   "mimetype": "text/x-python",
   "name": "python",
   "nbconvert_exporter": "python",
   "pygments_lexer": "ipython3",
   "version": "3.9.7"
  }
 },
 "nbformat": 4,
 "nbformat_minor": 5
}
