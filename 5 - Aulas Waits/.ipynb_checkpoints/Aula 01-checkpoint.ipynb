{
 "cells": [
  {
   "cell_type": "code",
   "execution_count": 4,
   "id": "e8f5a8a0",
   "metadata": {
    "collapsed": true
   },
   "outputs": [
    {
     "name": "stderr",
     "output_type": "stream",
     "text": [
      "C:\\Users\\GLEISS~1.SAN\\AppData\\Local\\Temp/ipykernel_15744/2072688247.py:24: DeprecationWarning: find_element_by_css_selector is deprecated. Please use find_element(by=By.CSS_SELECTOR, value=css_selector) instead\n",
      "  driver.find_element_by_css_selector('button').click()\n",
      "C:\\Users\\GLEISS~1.SAN\\AppData\\Local\\Temp/ipykernel_15744/2072688247.py:27: DeprecationWarning: find_element_by_css_selector is deprecated. Please use find_element(by=By.CSS_SELECTOR, value=css_selector) instead\n",
      "  driver.find_element_by_css_selector('button').click()\n",
      "C:\\Users\\GLEISS~1.SAN\\AppData\\Local\\Temp/ipykernel_15744/2072688247.py:34: DeprecationWarning: find_element_by_css_selector is deprecated. Please use find_element(by=By.CSS_SELECTOR, value=css_selector) instead\n",
      "  sucesso = driver.find_element_by_css_selector('#finished')\n"
     ]
    }
   ],
   "source": [
    "from selenium.webdriver import Firefox\n",
    "from selenium.webdriver.common.by import By\n",
    "from selenium.webdriver.support.ui import WebDriverWait\n",
    "from time import sleep\n",
    "\n",
    "url = 'https://selenium.dunossauro.live/aula_09_a.html'\n",
    "driver = Firefox()\n",
    "driver.get(url)\n",
    "\n",
    "class EsperarElemento:\n",
    "    def __init__(self, locator):\n",
    "        self.locator = locator\n",
    "\n",
    "    def __call__(self, webdriver):\n",
    "        if webdriver.find_elements(*self.locator):\n",
    "            return True\n",
    "        return False\n",
    "\n",
    "\n",
    "locator = (By.CSS_SELECTOR, 'button')\n",
    "esperar_botao = EsperarElemento(locator)\n",
    "\n",
    "wdw = WebDriverWait(driver, 20)\n",
    "\n",
    "wdw.until(esperar_botao, 'Deu ruim')\n",
    "\n",
    "driver.find_element_by_css_selector('button').click()\n",
    "driver.find_element_by_css_selector('button').click()\n",
    "\n",
    "wdw.until(\n",
    "    EsperarElemento(locator=('id', 'finished')),\n",
    "    'A mensagem de sucesso não apareceu')\n",
    "\n",
    "sucesso = driver.find_element_by_css_selector('#finished')\n",
    "\n",
    "assert sucesso.text == 'Carregamento concluído'"
   ]
  },
  {
   "cell_type": "code",
   "execution_count": 3,
   "id": "d562ef11",
   "metadata": {},
   "outputs": [
    {
     "name": "stderr",
     "output_type": "stream",
     "text": [
      "C:\\Users\\GLEISS~1.SAN\\AppData\\Local\\Temp/ipykernel_15744/4270379722.py:15: DeprecationWarning: find_element_by_css_selector is deprecated. Please use find_element(by=By.CSS_SELECTOR, value=css_selector) instead\n",
      "  driver.find_element_by_css_selector('button').click()\n",
      "C:\\Users\\GLEISS~1.SAN\\AppData\\Local\\Temp/ipykernel_15744/4270379722.py:18: DeprecationWarning: find_element_by_css_selector is deprecated. Please use find_element(by=By.CSS_SELECTOR, value=css_selector) instead\n",
      "  driver.find_element_by_css_selector('button').click()\n",
      "C:\\Users\\GLEISS~1.SAN\\AppData\\Local\\Temp/ipykernel_15744/4270379722.py:25: DeprecationWarning: find_element_by_css_selector is deprecated. Please use find_element(by=By.CSS_SELECTOR, value=css_selector) instead\n",
      "  sucesso = driver.find_element_by_css_selector('#finished')\n"
     ]
    }
   ],
   "source": [
    "class EsperarElemento:\n",
    "    def __init__(self, locator):\n",
    "        self.locator = locator\n",
    "\n",
    "    def __call__(self, webdriver):\n",
    "        if webdriver.find_elements(*self.locator):\n",
    "            return True\n",
    "        return False\n",
    "\n",
    "\n",
    "locator = (By.CSS_SELECTOR, 'button')\n",
    "esperar_botao = EsperarElemento(locator)\n",
    "wdw = WebDriverWait(driver, 20)\n",
    "wdw.until(esperar_botao, 'Deu ruim')\n",
    "driver.find_element_by_css_selector('button').click()\n",
    "\n",
    "\n",
    "driver.find_element_by_css_selector('button').click()\n",
    "\n",
    "wdw.until(\n",
    "    EsperarElemento(locator=('id', 'finished')),\n",
    "    'A mensagem de sucesso não apareceu'\n",
    ")\n",
    "\n",
    "sucesso = driver.find_element_by_css_selector('#finished')\n",
    "\n",
    "assert sucesso.text == 'Carregamento concluído'"
   ]
  },
  {
   "cell_type": "code",
   "execution_count": null,
   "id": "fe9b0caa",
   "metadata": {},
   "outputs": [],
   "source": []
  },
  {
   "cell_type": "code",
   "execution_count": null,
   "id": "7d30fa3e",
   "metadata": {},
   "outputs": [],
   "source": [
    "#Modo implicito\n",
    "driver.implicitly_wait(20)\n",
    "driver.find_element(By.CSS_SELECTOR, \"button\").click()\n",
    "\n",
    "sucesso = driver.find_element(By.CSS_SELECTOR, \"#finished\")\n",
    "assert sucesso.text == 'Carregamento concluído'"
   ]
  }
 ],
 "metadata": {
  "kernelspec": {
   "display_name": "Python 3 (ipykernel)",
   "language": "python",
   "name": "python3"
  },
  "language_info": {
   "codemirror_mode": {
    "name": "ipython",
    "version": 3
   },
   "file_extension": ".py",
   "mimetype": "text/x-python",
   "name": "python",
   "nbconvert_exporter": "python",
   "pygments_lexer": "ipython3",
   "version": "3.9.7"
  }
 },
 "nbformat": 4,
 "nbformat_minor": 5
}
